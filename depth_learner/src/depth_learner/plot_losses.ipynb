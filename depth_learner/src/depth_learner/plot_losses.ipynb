{
 "cells": [
  {
   "cell_type": "code",
   "execution_count": null,
   "metadata": {},
   "outputs": [],
   "source": [
    "import os\n",
    "import yaml\n",
    "import numpy as np\n",
    "import matplotlib\n",
    "import matplotlib.pyplot as plt\n",
    "from scipy.signal import savgol_filter"
   ]
  },
  {
   "cell_type": "code",
   "execution_count": null,
   "metadata": {},
   "outputs": [],
   "source": [
    "data_path = \"/home/rpg_students/moritz/figures/losses_csv/\"\n",
    "out_path = \"/home/rpg_students/moritz/figures/losses\"\n",
    "path_tl = [\"run_resnet50_2805-tag-Train_Loss.csv\",\n",
    "           \"run_resnet50_dropout1-tag-Train_Loss.csv\",\n",
    "           \"run_resnet50_dropout2-tag-Train_Loss.csv\"]\n",
    "path_vl = [\"run_resnet50_2805-tag-Validation_Loss.csv\",\n",
    "           \"run_resnet50_dropout1-tag-Validation_Loss.csv\",\n",
    "           \"run_resnet50_dropout2-tag-Validation_Loss.csv\"]\n",
    "\n",
    "plt.rcParams['figure.figsize'] = (10.0, 7.0) # set default size of plots\n",
    "font = {'family' : 'sans',\n",
    "        'weight' : 'normal',\n",
    "        'size'   : 20}\n",
    "matplotlib.rc('font', **font)\n",
    "colors = [(0.,0.,1.,1.), (.1,0.,1.,.45), (0.2,.8,.2,.8)]"
   ]
  },
  {
   "cell_type": "code",
   "execution_count": null,
   "metadata": {},
   "outputs": [],
   "source": [
    "def smooth(data, window_size):\n",
    "    return savgol_filter(data, window_size, 5)\n",
    "def mavg(data, window_size):\n",
    "    box = np.ones(window_size)/window_size\n",
    "    data_smooth = np.convolve(data, box, mode='same')\n",
    "    return data_smooth\n",
    "def load(path, clip):\n",
    "    data = np.genfromtxt(path, delimiter=',', skip_header=1, names=['time','step','loss'])\n",
    "    data = data[range(clip)]\n",
    "    return data\n",
    "def rmse(im1, im2):\n",
    "    \"Calculate the root-mean-square difference between two images\"\n",
    "    h = ImageChops.difference(im1, im2).histogram()\n",
    "\n",
    "    # calculate rms\n",
    "    return math.sqrt(reduce(operator.add,\n",
    "        map(lambda h, i: h*(i**2), h, range(256))\n",
    "        ) / (float(im1.size[0]) * im1.size[1]))\n"
   ]
  },
  {
   "cell_type": "code",
   "execution_count": null,
   "metadata": {
    "scrolled": false
   },
   "outputs": [],
   "source": [
    "linewidth = 1.5\n",
    "filter_window = 81\n",
    "fig_tl = plt.figure()\n",
    "ax1 = fig_tl.add_subplot(111)\n",
    "ax1.set_title(\"Train loss - Deep Residual CNN\")    \n",
    "ax1.set_xlabel('Steps')\n",
    "ax1.set_ylabel('Loss (Smoothened)')\n",
    "\n",
    "path = os.path.join(data_path,path_tl[0])\n",
    "data = load(path, 999)\n",
    "data['step'] *= 2\n",
    "ax1.plot(data['step'],smooth(data['loss'],filter_window), c=colors[0], label='no dropout', lw=linewidth)\n",
    "\n",
    "\n",
    "path = os.path.join(data_path,path_tl[1])\n",
    "data = load(path, 842)\n",
    "ax1.plot(data['step'],smooth(data['loss'],filter_window), c=colors[1], label='dropout 1st layer', lw=linewidth)\n",
    "\n",
    "\n",
    "path = os.path.join(data_path,path_tl[2])\n",
    "data = load(path, 900)\n",
    "ax1.plot(data['step'],smooth(data['loss'],filter_window), c=colors[2], label='dropout all layers', lw=linewidth)\n",
    "\n",
    "#leg = ax1.legend()\n",
    "ax1.ticklabel_format(style='sci', axis='y', scilimits=(0,0))\n",
    "ax1.set_ylim([0.004,0.010])\n",
    "ax1.set_xlim([1,190000])\n",
    "\n",
    "plt.savefig(os.path.join(out_path, 'DeepResidual-TrainLosses.png'), bbox_inches='tight', dpi=200)"
   ]
  },
  {
   "cell_type": "code",
   "execution_count": null,
   "metadata": {},
   "outputs": [],
   "source": [
    "filter_window = 21\n",
    "plt.figure()\n",
    "fig_tl = plt.figure()\n",
    "ax2 = fig_tl.add_subplot(111)\n",
    "ax2.set_title(\"Validation loss - Deep Residual CNN\")    \n",
    "ax2.set_xlabel('Epochs')\n",
    "#ax2.set_ylabel('Loss (Smoothened)')\n",
    "\n",
    "path = os.path.join(data_path,path_vl[0])\n",
    "data = load(path, 100)\n",
    "ax2.plot(data['step'],smooth(data['loss'],filter_window), c=colors[0], label='no dropout', lw=linewidth)\n",
    "\n",
    "path = os.path.join(data_path,path_vl[1])\n",
    "data = load(path, 100)\n",
    "ax2.plot(data['step'],smooth(data['loss'],filter_window), c=colors[1], label='dropout 1st deconv layer', lw=linewidth)\n",
    "\n",
    "path = os.path.join(data_path,path_vl[2])\n",
    "data = load(path, 100)\n",
    "ax2.plot(data['step'],smooth(data['loss'],filter_window), c=colors[2], label='dropout all deconv layers', lw=linewidth)\n",
    "\n",
    "leg = ax2.legend()\n",
    "ax2.set_yscale('linear')\n",
    "ax2.ticklabel_format(style='sci', axis='y', scilimits=(0,0))\n",
    "ax2.set_ylim([0.0055,0.01])\n",
    "ax2.set_xlim([1,110])\n",
    "\n",
    "plt.savefig(os.path.join(out_path, 'DeepResidual-ValLosses.png'), bbox_inches='tight', dpi=200)"
   ]
  },
  {
   "cell_type": "code",
   "execution_count": null,
   "metadata": {},
   "outputs": [],
   "source": []
  },
  {
   "cell_type": "code",
   "execution_count": null,
   "metadata": {},
   "outputs": [],
   "source": []
  },
  {
   "cell_type": "code",
   "execution_count": null,
   "metadata": {},
   "outputs": [],
   "source": []
  }
 ],
 "metadata": {
  "kernelspec": {
   "display_name": "venv2.7",
   "language": "python",
   "name": "venv2.7"
  },
  "language_info": {
   "codemirror_mode": {
    "name": "ipython",
    "version": 2
   },
   "file_extension": ".py",
   "mimetype": "text/x-python",
   "name": "python",
   "nbconvert_exporter": "python",
   "pygments_lexer": "ipython2",
   "version": "2.7.12"
  }
 },
 "nbformat": 4,
 "nbformat_minor": 2
}
